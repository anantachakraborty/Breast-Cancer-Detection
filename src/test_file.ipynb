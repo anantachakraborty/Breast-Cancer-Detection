{
 "cells": [
  {
   "cell_type": "markdown",
   "metadata": {
    "id": "4I1W_I4gSxFN"
   },
   "source": [
    "Importing the Dependencies"
   ]
  },
  {
   "cell_type": "code",
   "execution_count": 5,
   "metadata": {
    "executionInfo": {
     "elapsed": 405,
     "status": "ok",
     "timestamp": 1694990420629,
     "user": {
      "displayName": "Ananta Chakraborty",
      "userId": "15913035944577082829"
     },
     "user_tz": -330
    },
    "id": "eAfBeMFbS1jF"
   },
   "outputs": [],
   "source": [
    "import numpy as np\n",
    "import pandas as pd\n",
    "from scipy.stats import mode\n",
    "import joblib\n"
   ]
  },
  {
   "cell_type": "code",
   "execution_count": 6,
   "metadata": {},
   "outputs": [],
   "source": [
    "# load model\n",
    "rf_model = joblib.load('../model/random_forest_model.pkl')\n",
    "lr_model = joblib.load('../model/lr_model.pkl')\n"
   ]
  },
  {
   "cell_type": "markdown",
   "metadata": {
    "id": "hmXQ8rh3VUA2"
   },
   "source": [
    "Building a Predictive System"
   ]
  },
  {
   "cell_type": "code",
   "execution_count": 7,
   "metadata": {
    "colab": {
     "base_uri": "https://localhost:8080/"
    },
    "executionInfo": {
     "elapsed": 12,
     "status": "ok",
     "timestamp": 1694990467159,
     "user": {
      "displayName": "Ananta Chakraborty",
      "userId": "15913035944577082829"
     },
     "user_tz": -330
    },
    "id": "33_Jw1SXVKGT",
    "outputId": "08de8733-2a07-41a8-8448-b64f56d80575"
   },
   "outputs": [
    {
     "name": "stdout",
     "output_type": "stream",
     "text": [
      "The Breast Cancer is Benign\n"
     ]
    },
    {
     "name": "stderr",
     "output_type": "stream",
     "text": [
      "c:\\Users\\Ananta Chakraborty\\AppData\\Local\\Programs\\Python\\Python310\\lib\\site-packages\\sklearn\\base.py:465: UserWarning: X does not have valid feature names, but LogisticRegression was fitted with feature names\n",
      "  warnings.warn(\n",
      "c:\\Users\\Ananta Chakraborty\\AppData\\Local\\Programs\\Python\\Python310\\lib\\site-packages\\sklearn\\base.py:465: UserWarning: X does not have valid feature names, but RandomForestClassifier was fitted with feature names\n",
      "  warnings.warn(\n"
     ]
    }
   ],
   "source": [
    "\n",
    "# Assuming you have already trained the Logistic Regression and Random Forest models\n",
    "# lr_model and rf_model are the trained models\n",
    "\n",
    "input_data = (13.54,14.36,87.46,566.3,0.09779,0.08129,0.06664,0.04781,0.1885,0.05766,0.2699,0.7886,2.058,23.56,0.008462,0.0146,0.02387,0.01315,0.0198,0.0023,15.11,19.26,99.7,711.2,0.144,0.1773,0.239,0.1288,0.2977,0.07259)\n",
    "\n",
    "# Change the input data to a numpy array\n",
    "input_data_as_numpy_array = np.asarray(input_data)\n",
    "\n",
    "# Reshape the numpy array as we are predicting for one datapoint\n",
    "input_data_reshaped = input_data_as_numpy_array.reshape(1, -1)\n",
    "\n",
    "# Make predictions using Logistic Regression\n",
    "lr_prediction = lr_model.predict(input_data_reshaped)\n",
    "\n",
    "# Make predictions using Random Forest\n",
    "rf_prediction = rf_model.predict(input_data_reshaped)\n",
    "\n",
    "# Combine predictions using majority vote\n",
    "combined_prediction = mode([lr_prediction, rf_prediction], axis=0)[0]\n",
    "\n",
    "if combined_prediction[0] == 0:\n",
    "    print('The Breast cancer is Malignant')\n",
    "else:\n",
    "    print('The Breast Cancer is Benign')\n"
   ]
  },
  {
   "cell_type": "code",
   "execution_count": null,
   "metadata": {
    "executionInfo": {
     "elapsed": 11,
     "status": "ok",
     "timestamp": 1694990467159,
     "user": {
      "displayName": "Ananta Chakraborty",
      "userId": "15913035944577082829"
     },
     "user_tz": -330
    },
    "id": "mSS9dVb5L3lR"
   },
   "outputs": [],
   "source": []
  }
 ],
 "metadata": {
  "colab": {
   "authorship_tag": "ABX9TyOjfcPidt3CpGDUkfJn98sj",
   "provenance": []
  },
  "kernelspec": {
   "display_name": "Python 3 (ipykernel)",
   "language": "python",
   "name": "python3"
  },
  "language_info": {
   "codemirror_mode": {
    "name": "ipython",
    "version": 3
   },
   "file_extension": ".py",
   "mimetype": "text/x-python",
   "name": "python",
   "nbconvert_exporter": "python",
   "pygments_lexer": "ipython3",
   "version": "3.10.11"
  }
 },
 "nbformat": 4,
 "nbformat_minor": 1
}
